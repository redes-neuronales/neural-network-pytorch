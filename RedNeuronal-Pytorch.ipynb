{
 "cells": [
  {
   "cell_type": "markdown",
   "metadata": {},
   "source": [
    "## Red neuronal de tres capas en Pytorch\n",
    "\n",
    "Los números utilizados para ejercicio se pueden descargar de:\n",
    "http://yann.lecun.com/exdb/mnist/\n",
    "\n",
    "Los archivos descomprimidos deberán de colocarse en la carpeta /mnist/"
   ]
  },
  {
   "cell_type": "code",
   "execution_count": 2,
   "metadata": {},
   "outputs": [],
   "source": [
    "import numpy as np\n",
    "import importlib\n",
    "from decimal import Decimal "
   ]
  },
  {
   "cell_type": "code",
   "execution_count": 3,
   "metadata": {},
   "outputs": [],
   "source": [
    "import torch\n",
    "from torch.autograd import Variable\n",
    "import torch.nn as nn\n",
    "import torch.optim as optim\n",
    "from torchvision import datasets, transforms\n",
    "device = torch.device('cuda')"
   ]
  },
  {
   "cell_type": "code",
   "execution_count": 4,
   "metadata": {},
   "outputs": [],
   "source": [
    "%matplotlib inline\n",
    "\n",
    "import matplotlib.pyplot as plt\n",
    "import matplotlib.cm as cm\n",
    "import json, matplotlib\n",
    "s = json.load( open(\"styles/bmh_matplotlibrc.json\") )\n",
    "matplotlib.rcParams.update(s)\n",
    "from IPython.core.pylabtools import figsize\n",
    "figsize(11, 5)\n",
    "colores = [\"#348ABD\", \"#A60628\",\"#06A628\"]"
   ]
  },
  {
   "cell_type": "code",
   "execution_count": 5,
   "metadata": {},
   "outputs": [],
   "source": [
    "from ipywidgets import interact, interact_manual, interactive, fixed\n",
    "import ipywidgets as widgets\n",
    "from IPython.display import display"
   ]
  },
  {
   "cell_type": "markdown",
   "metadata": {},
   "source": [
    "# Datos\n",
    "\n",
    "Los datos a utilizar son imágenes de dígitos.  En su formato original, se leen dos vectores:\n",
    "* Los datos de **entrada** vienen en un vector 3D.\n",
    "  * Cada renglón corresponde a un ejemplar de entrenamiento.\n",
    "  * En cada renglón hay una matriz 2D con las intensidades de los pixels.\n",
    "* Las etiquetas (dígito correcto que representan) vienen en un vector de una dimensión."
   ]
  },
  {
   "cell_type": "code",
   "execution_count": 6,
   "metadata": {
    "scrolled": true
   },
   "outputs": [
    {
     "name": "stdout",
     "output_type": "stream",
     "text": [
      "('Vector de ', 3, ' dimensiones: ', (60000, 28, 28), ' tipo ', <type 'numpy.uint8'>)\n",
      "('Vector de ', 1, ' dimensiones: ', (60000,), ' tipo ', <type 'numpy.uint8'>)\n",
      "('Vector de ', 3, ' dimensiones: ', (10000, 28, 28), ' tipo ', <type 'numpy.uint8'>)\n",
      "('Vector de ', 1, ' dimensiones: ', (10000,), ' tipo ', <type 'numpy.uint8'>)\n"
     ]
    }
   ],
   "source": [
    "from mnist.read import read, printFull\n",
    "\n",
    "filesDir = './mnist/'\n",
    "trainingSetFile = filesDir + 'train-images.idx3-ubyte'\n",
    "trainingSetLabelsFile = filesDir + 'train-labels.idx1-ubyte'\n",
    "testSetFile = filesDir + 't10k-images.idx3-ubyte'\n",
    "testSetLabelsFile = filesDir + 't10k-labels.idx1-ubyte'\n",
    "\n",
    "\n",
    "###     /\\ |__   __||  ____|| \\ | | / ____||_   _|/ __ \\ | \\ | |\n",
    "###    /  \\   | |   | |__   |  \\| || |       | | | |  | ||  \\| |\n",
    "###   / /\\ \\  | |   |  __|  | . ` || |       | | | |  | || . ` |\n",
    "###  / ____ \\ | |   | |____ | |\\  || |____  _| |_| |__| || |\\  |\n",
    "### /_/    \\_\\|_|   |______||_| \\_| \\_____||_____|\\____/ |_| \\_|\n",
    "### EN LAS SIQUIENTES DOS LINEAS SE LIMITA EL TAMAÑO DE LOS DATOS DE ENTRENAMIENTO,EN CASO\n",
    "### DE INCREMENTAR LA CANTIDAD EL CALCULO TOMA DRASTICAMENTE MAS TIEMPO EN EL CASO DE APROXIMACION DEL GRADIENTE,SE INCLUYE\n",
    "### IMPRESION DEL PROGRESO DEL METODO\n",
    "transform = transforms.Compose([transforms.ToTensor(),\n",
    "                              transforms.Normalize((0.5,), (0.5,)),\n",
    "                              ])\n",
    "\n",
    "trainset = datasets.MNIST('train-images.idx3-ubyte', download=False, train=True, transform=transform)\n",
    "valset = datasets.MNIST('t10k-images.idx3-ubyte', download=False, train=False, transform=transform)\n",
    "trainloader = torch.utils.data.DataLoader(trainset, batch_size=64, shuffle=True)\n",
    "valloader = torch.utils.data.DataLoader(valset, batch_size=64, shuffle=True)\n",
    "\n",
    "trainData = read(fileName=trainingSetFile).astype(np.float64)\n",
    "trainDataLabels = read(fileName=trainingSetLabelsFile).astype(np.float64)\n",
    "\n",
    "testData = read(fileName=testSetFile).astype(np.float64)\n",
    "testDataLabels = read(fileName=testSetLabelsFile).astype(np.float64)"
   ]
  },
  {
   "cell_type": "code",
   "execution_count": 7,
   "metadata": {},
   "outputs": [],
   "source": [
    "import mnist.plot\n",
    "from mnist.plot import muestraImagen"
   ]
  },
  {
   "cell_type": "code",
   "execution_count": 8,
   "metadata": {},
   "outputs": [
    {
     "data": {
      "application/vnd.jupyter.widget-view+json": {
       "model_id": "b1d67a701a12405598ee7a14f0634ab0",
       "version_major": 2,
       "version_minor": 0
      },
      "text/plain": [
       "aW50ZXJhY3RpdmUoY2hpbGRyZW49KEludFNsaWRlcih2YWx1ZT0yOTk5OSwgZGVzY3JpcHRpb249dSdpbmRpY2UnLCBtYXg9NTk5OTkpLCBPdXRwdXQoKSksIF9kb21fY2xhc3Nlcz0odSd3aWTigKY=\n"
      ]
     },
     "metadata": {},
     "output_type": "display_data"
    }
   ],
   "source": [
    "@interact(\n",
    "    indice = (0, len(trainData) - 1)\n",
    ")\n",
    "def muestraImagenEntrenamiento(indice):\n",
    "    muestraImagen(trainData, trainDataLabels, indice)"
   ]
  },
  {
   "cell_type": "markdown",
   "metadata": {},
   "source": [
    "Para poder trabajar con la red neuronal, necesitaremos transformar esas entradas, de modo que los valores de las intensidades de los pixeles se encuentren en un solo renglón.  Las entradas a la red neuronal, deberán ser de la forma:\n",
    "\\begin{align}\n",
    "  X &= \\begin{bmatrix}\n",
    "       x_1^{(1)} ... x_n^{(1)}  \\\\\n",
    "       x_1^{(2)} ... x_n^{(2)}  \\\\\n",
    "       ...\\\\\n",
    "       x_1^{(m)} ... x_n^{(m)}\n",
    "      \\end{bmatrix}\n",
    "\\end{align}\n",
    "También necesitaremos que las etiquetas formen una matriz donde la única columna distinta de cero, sea la correspondiente al dígito correcto:\n",
    "\\begin{align}\n",
    "  Y &= \\begin{bmatrix}\n",
    "       0, ..., y_{label_0} = 1 , ... ,0 \\\\\n",
    "       ... \\\\\n",
    "       0, ..., y_{label_n} = 1 , ... ,0 \\\\\n",
    "      \\end{bmatrix}\n",
    "\\end{align}\n"
   ]
  },
  {
   "cell_type": "code",
   "execution_count": 9,
   "metadata": {},
   "outputs": [
    {
     "name": "stdout",
     "output_type": "stream",
     "text": [
      "('X shape=', (60000, 28, 28, 1))\n",
      "('Y shape=', (60000, 10))\n"
     ]
    }
   ],
   "source": [
    "## Define las matrices X y Y, como se muestra arriba\n",
    "## A partir de trainData y trainDataLabels\n",
    "## TIP: usar reshape\n",
    "def makeX(datosEntrenamiento):\n",
    "    return datosEntrenamiento.reshape((-1, datosEntrenamiento.shape[1], datosEntrenamiento.shape[2], 1))\n",
    "\n",
    "def makeY(etiquetasEntrenamiento):\n",
    "    matrix = np.zeros((etiquetasEntrenamiento.shape[0], 10))\n",
    "    for i in range(etiquetasEntrenamiento.shape[0]):\n",
    "        matrix[i][int(etiquetasEntrenamiento[i])] = 1\n",
    "        \n",
    "    return matrix\n",
    "    \n",
    "X = makeX(trainData)\n",
    "print(\"X shape=\",X.shape)\n",
    "Y = makeY(trainDataLabels)\n",
    "print(\"Y shape=\",Y.shape)\n"
   ]
  },
  {
   "cell_type": "code",
   "execution_count": 10,
   "metadata": {},
   "outputs": [],
   "source": [
    "## Repite lo mismo con los datos de entrenamiento\n",
    "XTest = makeX(testData)\n",
    "YTest = makeY(testDataLabels)"
   ]
  },
  {
   "cell_type": "markdown",
   "metadata": {},
   "source": [
    "## Red con tres capas\n",
    "La red neuronal que se utilizará es una red neuronal de tres capas:\n",
    "* Entrada\n",
    "* Oculta\n",
    "* Salida\n",
    "La forma genérica de la red se ilustra a continuación.  Sólo que la red de este ejercicio tendrá más neuronas en cada capa.\n",
    "<img src=\"figuras/Red3Capas.png\"/>\n",
    "Para este ejercicio el número de neuronas será:\n",
    "* 785 + 1 (28x28 pixeles más la unidad de sesgo)\n",
    "* X + 1 unidades en la capa oculta donde X es elección del diseñador\n",
    "* 10 neuronas de salida (una por cada dígito)\n",
    "Por lo tanto, las dimensiones de las matrices de pesos son:\n",
    "* $\\Theta^{(0)} \\rightarrow (25 \\times 786)$\n",
    "* $\\Theta^{(1)} \\rightarrow (10 \\times 26)$"
   ]
  },
  {
   "cell_type": "code",
   "execution_count": 13,
   "metadata": {},
   "outputs": [],
   "source": [
    "## Programa una clase RedNeuronal en PyTorch con la arquitectura anterior.\n",
    "\n",
    "class NN():\n",
    "    def __init__(self, input_size, hidden_sizes, output_size):\n",
    "        self.model = nn.Sequential(nn.Linear(input_size, hidden_sizes[0]),\n",
    "                      nn.BatchNorm1d(128),\n",
    "                      nn.ReLU(),\n",
    "                      nn.Linear(hidden_sizes[0], hidden_sizes[1]),\n",
    "                      nn.ReLU(),\n",
    "                      nn.Linear(hidden_sizes[1], output_size),\n",
    "                      nn.Softmax(dim=1))\n",
    "        \n",
    "    def feedForward(self, X):\n",
    "        return self.model(X)\n",
    "    \n",
    "    def backPropagate(self, X, Y):\n",
    "        criterion = nn.CrossEntropyLoss()\n",
    "        self.loss = criterion(X, Y)\n",
    "        self.loss.backward()\n",
    "        \n",
    "    def train(self, trainset, NofE=100):\n",
    "        optimizer = optim.SGD(self.model.parameters(), lr=0.003, momentum=0.9)\n",
    "        errores = np.zeros(NofE)\n",
    "        for i in range(NofE):\n",
    "            running_loss = 0\n",
    "            \n",
    "            for images, labels in trainset:\n",
    "                \n",
    "                images = images.view(images.shape[0], -1)\n",
    "    \n",
    "                optimizer.zero_grad()\n",
    "        \n",
    "                output = self.feedForward(images)\n",
    "                self.backPropagate(output, labels)\n",
    "        \n",
    "                optimizer.step()\n",
    "        \n",
    "                running_loss += self.loss.item()\n",
    "            \n",
    "            errores[i] = running_loss\n",
    "            \n",
    "        if NofE > 1:\n",
    "            plt.plot(np.arange(NofE), errores)\n",
    "             \n",
    "    def view_classify(self, img, ps):\n",
    "        ps = ps.data.numpy().squeeze()\n",
    "\n",
    "        fig, (ax1, ax2) = plt.subplots(figsize=(6,9), ncols=2)\n",
    "        ax1.imshow(img.resize_(1, 28, 28).numpy().squeeze())\n",
    "        ax1.axis('off')\n",
    "        ax2.barh(np.arange(10), ps)\n",
    "        ax2.set_aspect(0.1)\n",
    "        ax2.set_yticks(np.arange(10))\n",
    "        ax2.set_yticklabels(np.arange(10))\n",
    "        ax2.set_title('Probabilidades')\n",
    "        ax2.set_xlim(0, 1.1)\n",
    "        plt.tight_layout()\n",
    "    \n",
    "    def test(self, testset):\n",
    "        images, labels = next(iter(valloader))\n",
    "        img = images[0].view(1, 784)\n",
    "\n",
    "        with torch.no_grad():\n",
    "            logps = self.feedForward(img)\n",
    "    \n",
    "        ps = torch.exp(logps)\n",
    "        probab = list(ps.numpy()[0])\n",
    "        print(\"Prediccion =\", probab.index(max(probab)))\n",
    "        self.view_classify(img.view(1, 28, 28), ps)\n",
    "    \n",
    "red = NN(784, [128, 10], 10)\n",
    "images, labels = next(iter(trainloader))\n",
    "images = images.view(images.shape[0], -1)"
   ]
  },
  {
   "cell_type": "code",
   "execution_count": 14,
   "metadata": {},
   "outputs": [
    {
     "data": {
      "image/png": "[encoded data removed]",
      "text/plain": [
       "<matplotlib.figure.Figure at 0x7fadc0e0f410>"
      ]
     },
     "metadata": {
      "needs_background": "light"
     },
     "output_type": "display_data"
    }
   ],
   "source": [
    "red.train(trainloader, NofE = 150)"
   ]
  },
  {
   "cell_type": "code",
   "execution_count": 43,
   "metadata": {},
   "outputs": [
    {
     "name": "stdout",
     "output_type": "stream",
     "text": [
      "('Prediccion =', 5)\n"
     ]
    },
    {
     "data": {
      "image/png": "[encoded data removed]",
      "text/plain": [
       "<matplotlib.figure.Figure at 0x7f89f7c5c1d0>"
      ]
     },
     "metadata": {
      "needs_background": "light"
     },
     "output_type": "display_data"
    }
   ],
   "source": [
    "## Prueba el modelo entrenado con los datos de prueba y muestra la métrica de exatitud\n",
    "red.test(valloader)"
   ]
  },
  {
   "cell_type": "code",
   "execution_count": 25,
   "metadata": {},
   "outputs": [
    {
     "name": "stdout",
     "output_type": "stream",
     "text": [
      "('Imagenes probadas =', 10000)\n",
      "('Exactitud =', '97.47%')\n"
     ]
    }
   ],
   "source": [
    "correct_count, all_count = 0, 0\n",
    "for images,labels in valloader:\n",
    "    for i in range(len(labels)):\n",
    "        img = images[i].view(1, 784)\n",
    "        with torch.no_grad():\n",
    "            logps = red.feedForward(img)\n",
    "\n",
    "    \n",
    "        ps = torch.exp(logps)\n",
    "        probab = list(ps.numpy()[0])\n",
    "        pred_label = probab.index(max(probab))\n",
    "        true_label = labels.numpy()[i]\n",
    "        if(true_label == pred_label):\n",
    "            correct_count += 1\n",
    "                \n",
    "        all_count += 1\n",
    "\n",
    "print(\"Imagenes probadas =\", all_count)\n",
    "print(\"Exactitud =\", str(float(correct_count) / float(all_count) * 100) + \"%\")"
   ]
  },
  {
   "cell_type": "code",
   "execution_count": 27,
   "metadata": {},
   "outputs": [],
   "source": [
    "## Programa una clase RedNeuronal en PyTorch con la arquitectura anterior.\n",
    "\n",
    "class NN1():\n",
    "    def __init__(self, input_size, hidden_sizes, output_size):\n",
    "        self.model = nn.Sequential(nn.Linear(input_size, hidden_sizes[0]),\n",
    "                      nn.BatchNorm1d(128),\n",
    "                      nn.ReLU(),\n",
    "                      nn.Linear(hidden_sizes[0], hidden_sizes[1]),\n",
    "                      nn.ReLU(),\n",
    "                      nn.Linear(hidden_sizes[1], output_size),\n",
    "                      nn.Softmax(dim=1))\n",
    "        \n",
    "    def feedForward(self, X):\n",
    "        return self.model(X)\n",
    "    \n",
    "    def backPropagate(self, X, Y):\n",
    "        criterion = nn.SmoothL1Loss()\n",
    "        self.loss = criterion(X, Y)\n",
    "        self.loss.backward()\n",
    "        \n",
    "    def train(self, trainset, NofE=100):\n",
    "        optimizer = optim.Adagrad(self.model.parameters(), lr=0.01)\n",
    "        errores = np.zeros(NofE)\n",
    "        for i in range(NofE):\n",
    "            running_loss = 0\n",
    "            \n",
    "            for images, labels in trainset:\n",
    "                \n",
    "                images = images.view(images.shape[0], -1)\n",
    "    \n",
    "                optimizer.zero_grad()\n",
    "        \n",
    "                output = self.feedForward(images)\n",
    "                self.backPropagate(output, labels)\n",
    "        \n",
    "                optimizer.step()\n",
    "        \n",
    "                running_loss += self.loss.item()\n",
    "            \n",
    "            errores[i] = running_loss\n",
    "            \n",
    "        if NofE > 1:\n",
    "            plt.plot(np.arange(NofE), errores)\n",
    "             \n",
    "    def view_classify(self, img, ps):\n",
    "        ps = ps.data.numpy().squeeze()\n",
    "\n",
    "        fig, (ax1, ax2) = plt.subplots(figsize=(6,9), ncols=2)\n",
    "        ax1.imshow(img.resize_(1, 28, 28).numpy().squeeze())\n",
    "        ax1.axis('off')\n",
    "        ax2.barh(np.arange(10), ps)\n",
    "        ax2.set_aspect(0.1)\n",
    "        ax2.set_yticks(np.arange(10))\n",
    "        ax2.set_yticklabels(np.arange(10))\n",
    "        ax2.set_title('Probabilidades')\n",
    "        ax2.set_xlim(0, 1.1)\n",
    "        plt.tight_layout()\n",
    "    \n",
    "    def test(self, testset):\n",
    "        images, labels = next(iter(valloader))\n",
    "        img = images[0].view(1, 784)\n",
    "\n",
    "        with torch.no_grad():\n",
    "            logps = self.feedForward(img)\n",
    "    \n",
    "        ps = torch.exp(logps)\n",
    "        probab = list(ps.numpy()[0])\n",
    "        print(\"Prediccion =\", probab.index(max(probab)))\n",
    "        self.view_classify(img.view(1, 28, 28), ps)\n",
    "    \n",
    "red = NN1(784, [128, 10], 10)\n",
    "images, labels = next(iter(trainloader))\n",
    "images = images.view(images.shape[0], -1)"
   ]
  },
  {
   "cell_type": "code",
   "execution_count": 25,
   "metadata": {},
   "outputs": [
    {
     "data": {
      "image/png": "[encoded data removed]",
      "text/plain": [
       "<matplotlib.figure.Figure at 0x7fadc0e00e90>"
      ]
     },
     "metadata": {
      "needs_background": "light"
     },
     "output_type": "display_data"
    }
   ],
   "source": [
    "red.train(trainloader, NofE = 150)"
   ]
  },
  {
   "cell_type": "code",
   "execution_count": null,
   "metadata": {},
   "outputs": [],
   "source": [
    "red.test(valloader)"
   ]
  },
  {
   "cell_type": "code",
   "execution_count": 28,
   "metadata": {},
   "outputs": [
    {
     "name": "stdout",
     "output_type": "stream",
     "text": [
      "('Imagenes probadas =', 10000)\n",
      "('Exactitud =', '5.84%')\n"
     ]
    }
   ],
   "source": [
    "correct_count, all_count = 0, 0\n",
    "for images,labels in valloader:\n",
    "    for i in range(len(labels)):\n",
    "        img = images[i].view(1, 784)\n",
    "        with torch.no_grad():\n",
    "            logps = red.feedForward(img)\n",
    "\n",
    "    \n",
    "        ps = torch.exp(logps)\n",
    "        probab = list(ps.numpy()[0])\n",
    "        pred_label = probab.index(max(probab))\n",
    "        true_label = labels.numpy()[i]\n",
    "        if(true_label == pred_label):\n",
    "            correct_count += 1\n",
    "                \n",
    "        all_count += 1\n",
    "\n",
    "print(\"Imagenes probadas =\", all_count)\n",
    "print(\"Exactitud =\", str(float(correct_count) / float(all_count) * 100) + \"%\")"
   ]
  },
  {
   "cell_type": "code",
   "execution_count": 31,
   "metadata": {},
   "outputs": [],
   "source": [
    "## Programa una clase RedNeuronal en PyTorch con la arquitectura anterior.\n",
    "\n",
    "class NN2():\n",
    "    def __init__(self, input_size, hidden_sizes, output_size):\n",
    "        self.model = nn.Sequential(nn.Linear(input_size, hidden_sizes[0]),\n",
    "                      nn.BatchNorm1d(128),\n",
    "                      nn.ReLU(),\n",
    "                      nn.Linear(hidden_sizes[0], hidden_sizes[1]),\n",
    "                      nn.ReLU(),\n",
    "                      nn.Linear(hidden_sizes[1], output_size),\n",
    "                      nn.Softmax(dim=1))\n",
    "        \n",
    "    def feedForward(self, X):\n",
    "        return self.model(X)\n",
    "    \n",
    "    def backPropagate(self, X, Y):\n",
    "        criterion = nn.MSELoss()\n",
    "        self.loss = criterion(X, Y)\n",
    "        self.loss.backward()\n",
    "        \n",
    "    def train(self, trainset, NofE=100):\n",
    "        optimizer = optim.Adam(self.model.parameters(), lr=0.01)\n",
    "        errores = np.zeros(NofE)\n",
    "        for i in range(NofE):\n",
    "            running_loss = 0\n",
    "            \n",
    "            for images, labels in trainset:\n",
    "                \n",
    "                images = images.view(images.shape[0], -1)\n",
    "    \n",
    "                optimizer.zero_grad()\n",
    "        \n",
    "                output = self.feedForward(images)\n",
    "                self.backPropagate(output, labels)\n",
    "        \n",
    "                optimizer.step()\n",
    "        \n",
    "                running_loss += self.loss.item()\n",
    "            \n",
    "            errores[i] = running_loss\n",
    "            \n",
    "        if NofE > 1:\n",
    "            plt.plot(np.arange(NofE), errores)\n",
    "             \n",
    "    def view_classify(self, img, ps):\n",
    "        ps = ps.data.numpy().squeeze()\n",
    "\n",
    "        fig, (ax1, ax2) = plt.subplots(figsize=(6,9), ncols=2)\n",
    "        ax1.imshow(img.resize_(1, 28, 28).numpy().squeeze())\n",
    "        ax1.axis('off')\n",
    "        ax2.barh(np.arange(10), ps)\n",
    "        ax2.set_aspect(0.1)\n",
    "        ax2.set_yticks(np.arange(10))\n",
    "        ax2.set_yticklabels(np.arange(10))\n",
    "        ax2.set_title('Probabilidades')\n",
    "        ax2.set_xlim(0, 1.1)\n",
    "        plt.tight_layout()\n",
    "    \n",
    "    def test(self, testset):\n",
    "        images, labels = next(iter(valloader))\n",
    "        img = images[0].view(1, 784)\n",
    "\n",
    "        with torch.no_grad():\n",
    "            logps = self.feedForward(img)\n",
    "    \n",
    "        ps = torch.exp(logps)\n",
    "        probab = list(ps.numpy()[0])\n",
    "        print(\"Prediccion =\", probab.index(max(probab)))\n",
    "        self.view_classify(img.view(1, 28, 28), ps)\n",
    "    \n",
    "red3 = NN2(784, [128, 64], 10)\n",
    "images, labels = next(iter(trainloader))\n",
    "images = images.view(images.shape[0], -1)"
   ]
  },
  {
   "cell_type": "code",
   "execution_count": 32,
   "metadata": {},
   "outputs": [
    {
     "data": {
      "image/png": "[encoded data removed]",
      "text/plain": [
       "<matplotlib.figure.Figure at 0x7fae1f7c4e10>"
      ]
     },
     "metadata": {
      "needs_background": "light"
     },
     "output_type": "display_data"
    }
   ],
   "source": [
    "red3.train(trainloader, NofE = 150)"
   ]
  },
  {
   "cell_type": "code",
   "execution_count": 33,
   "metadata": {},
   "outputs": [
    {
     "name": "stdout",
     "output_type": "stream",
     "text": [
      "('Imagenes probadas =', 10000)\n",
      "('Exactitud =', '11.05%')\n"
     ]
    }
   ],
   "source": [
    "correct_count, all_count = 0, 0\n",
    "for images,labels in valloader:\n",
    "    for i in range(len(labels)):\n",
    "        img = images[i].view(1, 784)\n",
    "        with torch.no_grad():\n",
    "            logps = red.feedForward(img)\n",
    "\n",
    "    \n",
    "        ps = torch.exp(logps)\n",
    "        probab = list(ps.numpy()[0])\n",
    "        pred_label = probab.index(max(probab))\n",
    "        true_label = labels.numpy()[i]\n",
    "        if(true_label == pred_label):\n",
    "            correct_count += 1\n",
    "                \n",
    "        all_count += 1\n",
    "\n",
    "print(\"Imagenes probadas =\", all_count)\n",
    "print(\"Exactitud =\", str(float(correct_count) / float(all_count) * 100) + \"%\")"
   ]
  },
  {
   "cell_type": "code",
   "execution_count": null,
   "metadata": {},
   "outputs": [],
   "source": []
  }
 ],
 "metadata": {
  "kernelspec": {
   "display_name": "Python 3",
   "language": "python",
   "name": "python3"
  },
  "language_info": {
   "codemirror_mode": {
    "name": "ipython",
    "version": 2
   },
   "file_extension": ".py",
   "mimetype": "text/x-python",
   "name": "python",
   "nbconvert_exporter": "python",
   "pygments_lexer": "ipython2",
   "version": "2.7.17rc1"
  }
 },
 "nbformat": 4,
 "nbformat_minor": 1
}
